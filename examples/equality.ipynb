{
 "cells": [
  {
   "cell_type": "code",
   "execution_count": 1,
   "id": "da34db85-0297-474e-85c3-671bb7921c4d",
   "metadata": {},
   "outputs": [],
   "source": [
    "import mujoco\n",
    "import numpy as np"
   ]
  },
  {
   "cell_type": "code",
   "execution_count": 3,
   "id": "ad5d2f8c",
   "metadata": {},
   "outputs": [],
   "source": [
    "model = mujoco.MjModel.from_xml_path(\"agility_cassie/cassie.xml\")\n",
    "data = mujoco.MjData(model)"
   ]
  },
  {
   "cell_type": "code",
   "execution_count": 4,
   "id": "ce21b5b0",
   "metadata": {},
   "outputs": [
    {
     "data": {
      "text/plain": [
       "4"
      ]
     },
     "execution_count": 4,
     "metadata": {},
     "output_type": "execute_result"
    }
   ],
   "source": [
    "model.neq"
   ]
  },
  {
   "cell_type": "code",
   "execution_count": 5,
   "id": "79a19d76",
   "metadata": {},
   "outputs": [
    {
     "data": {
      "text/plain": [
       "array([0, 0, 0, 0], dtype=int32)"
      ]
     },
     "execution_count": 5,
     "metadata": {},
     "output_type": "execute_result"
    }
   ],
   "source": [
    "model.eq_type"
   ]
  },
  {
   "cell_type": "code",
   "execution_count": 7,
   "id": "191e0db7",
   "metadata": {},
   "outputs": [
    {
     "data": {
      "text/plain": [
       "<mjtEq.mjEQ_CONNECT: 0>"
      ]
     },
     "execution_count": 7,
     "metadata": {},
     "output_type": "execute_result"
    }
   ],
   "source": [
    "mujoco.mjtEq.mjEQ_CONNECT"
   ]
  },
  {
   "cell_type": "code",
   "execution_count": 8,
   "id": "974cb2de",
   "metadata": {},
   "outputs": [],
   "source": [
    "# So looks like Cassie has all connect constraints."
   ]
  },
  {
   "cell_type": "code",
   "execution_count": 9,
   "id": "92956fd6",
   "metadata": {},
   "outputs": [
    {
     "data": {
      "text/plain": [
       "array([], dtype=int32)"
      ]
     },
     "execution_count": 9,
     "metadata": {},
     "output_type": "execute_result"
    }
   ],
   "source": [
    "data.efc_type"
   ]
  },
  {
   "cell_type": "code",
   "execution_count": 10,
   "id": "5d609e1b",
   "metadata": {},
   "outputs": [],
   "source": [
    "mujoco.mj_forward(model, data)"
   ]
  },
  {
   "cell_type": "code",
   "execution_count": 12,
   "id": "2a9354f7",
   "metadata": {},
   "outputs": [
    {
     "data": {
      "text/plain": [
       "array([0, 0, 0, 0, 0, 0, 0, 0, 0, 0, 0, 0, 3, 3, 3, 3], dtype=int32)"
      ]
     },
     "execution_count": 12,
     "metadata": {},
     "output_type": "execute_result"
    }
   ],
   "source": [
    "data.efc_type"
   ]
  },
  {
   "cell_type": "code",
   "execution_count": 13,
   "id": "544e05f4",
   "metadata": {},
   "outputs": [
    {
     "data": {
      "text/plain": [
       "<mjtConstraint.mjCNSTR_EQUALITY: 0>"
      ]
     },
     "execution_count": 13,
     "metadata": {},
     "output_type": "execute_result"
    }
   ],
   "source": [
    "mujoco.mjtConstraint.mjCNSTR_EQUALITY"
   ]
  },
  {
   "cell_type": "code",
   "execution_count": null,
   "id": "d16b886c",
   "metadata": {},
   "outputs": [],
   "source": []
  },
  {
   "cell_type": "code",
   "execution_count": 15,
   "id": "33f03780",
   "metadata": {},
   "outputs": [
    {
     "data": {
      "text/plain": [
       "<mjtConstraint.mjCNSTR_FRICTION_DOF: 1>"
      ]
     },
     "execution_count": 15,
     "metadata": {},
     "output_type": "execute_result"
    }
   ],
   "source": [
    "mujoco.mjtConstraint.mjCNSTR_FRICTION_DOF"
   ]
  },
  {
   "cell_type": "code",
   "execution_count": 17,
   "id": "966463aa",
   "metadata": {},
   "outputs": [
    {
     "data": {
      "text/plain": [
       "array([ True,  True,  True,  True,  True,  True,  True,  True,  True,\n",
       "        True,  True,  True, False, False, False, False])"
      ]
     },
     "execution_count": 17,
     "metadata": {},
     "output_type": "execute_result"
    }
   ],
   "source": [
    "data.efc_type == mujoco.mjtConstraint.mjCNSTR_EQUALITY"
   ]
  },
  {
   "cell_type": "code",
   "execution_count": 22,
   "id": "f249c67c",
   "metadata": {},
   "outputs": [
    {
     "data": {
      "text/plain": [
       "array([ 0,  1,  2,  3,  4,  5,  6,  7,  8,  9, 10, 11])"
      ]
     },
     "execution_count": 22,
     "metadata": {},
     "output_type": "execute_result"
    }
   ],
   "source": [
    "np.argwhere(data.efc_type == mujoco.mjtConstraint.mjCNSTR_EQUALITY).ravel()"
   ]
  },
  {
   "cell_type": "code",
   "execution_count": 23,
   "id": "daff7414",
   "metadata": {},
   "outputs": [
    {
     "data": {
      "text/plain": [
       "array([ True,  True,  True,  True,  True,  True,  True,  True,  True,\n",
       "        True,  True,  True, False, False, False, False])"
      ]
     },
     "execution_count": 23,
     "metadata": {},
     "output_type": "execute_result"
    }
   ],
   "source": [
    "data.efc_type == mujoco.mjtConstraint.mjCNSTR_EQUALITY"
   ]
  },
  {
   "cell_type": "code",
   "execution_count": 18,
   "id": "40cdcc62",
   "metadata": {},
   "outputs": [
    {
     "data": {
      "text/plain": [
       "(512,)"
      ]
     },
     "execution_count": 18,
     "metadata": {},
     "output_type": "execute_result"
    }
   ],
   "source": [
    "data.efc_J.shape"
   ]
  },
  {
   "cell_type": "code",
   "execution_count": 20,
   "id": "3c7ca434",
   "metadata": {},
   "outputs": [
    {
     "data": {
      "text/plain": [
       "(16, 32)"
      ]
     },
     "execution_count": 20,
     "metadata": {},
     "output_type": "execute_result"
    }
   ],
   "source": [
    "data.efc_J.reshape((data.nefc, model.nv)).shape"
   ]
  },
  {
   "cell_type": "code",
   "execution_count": null,
   "id": "a40e5d40",
   "metadata": {},
   "outputs": [],
   "source": []
  }
 ],
 "metadata": {
  "kernelspec": {
   "display_name": "Python 3",
   "language": "python",
   "name": "python3"
  },
  "language_info": {
   "codemirror_mode": {
    "name": "ipython",
    "version": 3
   },
   "file_extension": ".py",
   "mimetype": "text/x-python",
   "name": "python",
   "nbconvert_exporter": "python",
   "pygments_lexer": "ipython3",
   "version": "3.11.11"
  }
 },
 "nbformat": 4,
 "nbformat_minor": 5
}
